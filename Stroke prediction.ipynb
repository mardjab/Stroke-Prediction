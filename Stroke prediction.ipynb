{
 "cells": [
  {
   "cell_type": "markdown",
   "id": "0dc86330",
   "metadata": {},
   "source": [
    "# Stroke prediction"
   ]
  },
  {
   "cell_type": "markdown",
   "id": "d0878bd9",
   "metadata": {},
   "source": [
    "A stroke occurs when blood supply to part of the brain is interrupted or reduced, mainly due to blockage or rupture of an artery, which then prevents brain tissue from getting oxygen and nutrients.\n",
    "\n",
    "According to the World Health Organization (WHO), stroke is the 3rd leading cause of disability globally, and responsible for approximately 11% of global deaths. In the United States alone, nearly 800,000 people suffer from a stroke every year, with about three in four being first-time strokes. And since strokes can be prevented in about 80% of the time, educating the general population on stroke signs is paramount.\n",
    "\n",
    "The objective of this study was to build a model for predicting the likelihood of having a stroke based on several clinical inputs (such as age, disease and smoking status).\n",
    "\n",
    "Used database: https://www.kaggle.com/fedesoriano/stroke-prediction-dataset.\n",
    "\n",
    "This dataset is comprised of 5110 rows corresponding to patients and the following columns:\n",
    "\n",
    "1.  id                : unique identifier\n",
    "2.  gender            : \"Male\", \"Female\" or \"Other\"\n",
    "3.  age               : age of the patient\n",
    "4.  hypertension      : 0 if the patient doesn't have hypertension, 1 if the patient has hypertension\n",
    "5.  heart_disease     : 0 if the patient doesn't have any heart diseases, 1 if the patient has a heart disease\n",
    "6.  ever_married      : \"No\" or \"Yes\"\n",
    "7.  work_type         : \"children\", \"Govt_jov\", \"Never_worked\", \"Private\" or \"Self-employed\"\n",
    "8.  Residence_type    : \"Rural\" or \"Urban\"\n",
    "9.  avg_glucose_level : average glucose level in blood\n",
    "10. bmi               : body mass index\n",
    "11. smoking_status    : \"formerly smoked\", \"never smoked\", \"smokes\" or \"Unknown\"\n",
    "12. stroke            : 0 the patient did not have a stroke, and 1 if the patient had a stroke"
   ]
  },
  {
   "cell_type": "markdown",
   "id": "edf8fcae",
   "metadata": {},
   "source": [
    "## 1. Importing libraries and loading the dataset"
   ]
  },
  {
   "cell_type": "code",
   "execution_count": 1,
   "id": "0410f592",
   "metadata": {},
   "outputs": [],
   "source": [
    "# to import the libraries that are going to be needed\n",
    "import pandas as pd\n",
    "import numpy as np\n",
    "import matplotlib.pyplot as plt\n",
    "import seaborn as sns\n",
    "import warnings\n",
    "warnings.filterwarnings(\"ignore\")\n",
    "\n",
    "sns.set()"
   ]
  },
  {
   "cell_type": "code",
   "execution_count": 2,
   "id": "9c12541a",
   "metadata": {},
   "outputs": [
    {
     "data": {
      "text/html": [
       "<div>\n",
       "<style scoped>\n",
       "    .dataframe tbody tr th:only-of-type {\n",
       "        vertical-align: middle;\n",
       "    }\n",
       "\n",
       "    .dataframe tbody tr th {\n",
       "        vertical-align: top;\n",
       "    }\n",
       "\n",
       "    .dataframe thead th {\n",
       "        text-align: right;\n",
       "    }\n",
       "</style>\n",
       "<table border=\"1\" class=\"dataframe\">\n",
       "  <thead>\n",
       "    <tr style=\"text-align: right;\">\n",
       "      <th></th>\n",
       "      <th>id</th>\n",
       "      <th>gender</th>\n",
       "      <th>age</th>\n",
       "      <th>hypertension</th>\n",
       "      <th>heart_disease</th>\n",
       "      <th>ever_married</th>\n",
       "      <th>work_type</th>\n",
       "      <th>Residence_type</th>\n",
       "      <th>avg_glucose_level</th>\n",
       "      <th>bmi</th>\n",
       "      <th>smoking_status</th>\n",
       "      <th>stroke</th>\n",
       "    </tr>\n",
       "  </thead>\n",
       "  <tbody>\n",
       "    <tr>\n",
       "      <th>0</th>\n",
       "      <td>9046</td>\n",
       "      <td>Male</td>\n",
       "      <td>67.0</td>\n",
       "      <td>0</td>\n",
       "      <td>1</td>\n",
       "      <td>Yes</td>\n",
       "      <td>Private</td>\n",
       "      <td>Urban</td>\n",
       "      <td>228.69</td>\n",
       "      <td>36.6</td>\n",
       "      <td>formerly smoked</td>\n",
       "      <td>1</td>\n",
       "    </tr>\n",
       "    <tr>\n",
       "      <th>1</th>\n",
       "      <td>51676</td>\n",
       "      <td>Female</td>\n",
       "      <td>61.0</td>\n",
       "      <td>0</td>\n",
       "      <td>0</td>\n",
       "      <td>Yes</td>\n",
       "      <td>Self-employed</td>\n",
       "      <td>Rural</td>\n",
       "      <td>202.21</td>\n",
       "      <td>NaN</td>\n",
       "      <td>never smoked</td>\n",
       "      <td>1</td>\n",
       "    </tr>\n",
       "    <tr>\n",
       "      <th>2</th>\n",
       "      <td>31112</td>\n",
       "      <td>Male</td>\n",
       "      <td>80.0</td>\n",
       "      <td>0</td>\n",
       "      <td>1</td>\n",
       "      <td>Yes</td>\n",
       "      <td>Private</td>\n",
       "      <td>Rural</td>\n",
       "      <td>105.92</td>\n",
       "      <td>32.5</td>\n",
       "      <td>never smoked</td>\n",
       "      <td>1</td>\n",
       "    </tr>\n",
       "    <tr>\n",
       "      <th>3</th>\n",
       "      <td>60182</td>\n",
       "      <td>Female</td>\n",
       "      <td>49.0</td>\n",
       "      <td>0</td>\n",
       "      <td>0</td>\n",
       "      <td>Yes</td>\n",
       "      <td>Private</td>\n",
       "      <td>Urban</td>\n",
       "      <td>171.23</td>\n",
       "      <td>34.4</td>\n",
       "      <td>smokes</td>\n",
       "      <td>1</td>\n",
       "    </tr>\n",
       "    <tr>\n",
       "      <th>4</th>\n",
       "      <td>1665</td>\n",
       "      <td>Female</td>\n",
       "      <td>79.0</td>\n",
       "      <td>1</td>\n",
       "      <td>0</td>\n",
       "      <td>Yes</td>\n",
       "      <td>Self-employed</td>\n",
       "      <td>Rural</td>\n",
       "      <td>174.12</td>\n",
       "      <td>24.0</td>\n",
       "      <td>never smoked</td>\n",
       "      <td>1</td>\n",
       "    </tr>\n",
       "  </tbody>\n",
       "</table>\n",
       "</div>"
      ],
      "text/plain": [
       "      id  gender   age  hypertension  heart_disease ever_married  \\\n",
       "0   9046    Male  67.0             0              1          Yes   \n",
       "1  51676  Female  61.0             0              0          Yes   \n",
       "2  31112    Male  80.0             0              1          Yes   \n",
       "3  60182  Female  49.0             0              0          Yes   \n",
       "4   1665  Female  79.0             1              0          Yes   \n",
       "\n",
       "       work_type Residence_type  avg_glucose_level   bmi   smoking_status  \\\n",
       "0        Private          Urban             228.69  36.6  formerly smoked   \n",
       "1  Self-employed          Rural             202.21   NaN     never smoked   \n",
       "2        Private          Rural             105.92  32.5     never smoked   \n",
       "3        Private          Urban             171.23  34.4           smokes   \n",
       "4  Self-employed          Rural             174.12  24.0     never smoked   \n",
       "\n",
       "   stroke  \n",
       "0       1  \n",
       "1       1  \n",
       "2       1  \n",
       "3       1  \n",
       "4       1  "
      ]
     },
     "execution_count": 2,
     "metadata": {},
     "output_type": "execute_result"
    }
   ],
   "source": [
    "# load the dataset\n",
    "df = pd.read_csv('healthcare-dataset-stroke-data.csv')\n",
    "df.head()"
   ]
  },
  {
   "cell_type": "code",
   "execution_count": 3,
   "id": "635fe2d8",
   "metadata": {},
   "outputs": [
    {
     "data": {
      "text/html": [
       "<div>\n",
       "<style scoped>\n",
       "    .dataframe tbody tr th:only-of-type {\n",
       "        vertical-align: middle;\n",
       "    }\n",
       "\n",
       "    .dataframe tbody tr th {\n",
       "        vertical-align: top;\n",
       "    }\n",
       "\n",
       "    .dataframe thead th {\n",
       "        text-align: right;\n",
       "    }\n",
       "</style>\n",
       "<table border=\"1\" class=\"dataframe\">\n",
       "  <thead>\n",
       "    <tr style=\"text-align: right;\">\n",
       "      <th></th>\n",
       "      <th>gender</th>\n",
       "      <th>age</th>\n",
       "      <th>hypertension</th>\n",
       "      <th>heart_disease</th>\n",
       "      <th>ever_married</th>\n",
       "      <th>work_type</th>\n",
       "      <th>Residence_type</th>\n",
       "      <th>avg_glucose_level</th>\n",
       "      <th>bmi</th>\n",
       "      <th>smoking_status</th>\n",
       "      <th>stroke</th>\n",
       "    </tr>\n",
       "    <tr>\n",
       "      <th>id</th>\n",
       "      <th></th>\n",
       "      <th></th>\n",
       "      <th></th>\n",
       "      <th></th>\n",
       "      <th></th>\n",
       "      <th></th>\n",
       "      <th></th>\n",
       "      <th></th>\n",
       "      <th></th>\n",
       "      <th></th>\n",
       "      <th></th>\n",
       "    </tr>\n",
       "  </thead>\n",
       "  <tbody>\n",
       "    <tr>\n",
       "      <th>9046</th>\n",
       "      <td>Male</td>\n",
       "      <td>67.0</td>\n",
       "      <td>0</td>\n",
       "      <td>1</td>\n",
       "      <td>Yes</td>\n",
       "      <td>Private</td>\n",
       "      <td>Urban</td>\n",
       "      <td>228.69</td>\n",
       "      <td>36.6</td>\n",
       "      <td>formerly smoked</td>\n",
       "      <td>1</td>\n",
       "    </tr>\n",
       "    <tr>\n",
       "      <th>51676</th>\n",
       "      <td>Female</td>\n",
       "      <td>61.0</td>\n",
       "      <td>0</td>\n",
       "      <td>0</td>\n",
       "      <td>Yes</td>\n",
       "      <td>Self-employed</td>\n",
       "      <td>Rural</td>\n",
       "      <td>202.21</td>\n",
       "      <td>NaN</td>\n",
       "      <td>never smoked</td>\n",
       "      <td>1</td>\n",
       "    </tr>\n",
       "  </tbody>\n",
       "</table>\n",
       "</div>"
      ],
      "text/plain": [
       "       gender   age  hypertension  heart_disease ever_married      work_type  \\\n",
       "id                                                                             \n",
       "9046     Male  67.0             0              1          Yes        Private   \n",
       "51676  Female  61.0             0              0          Yes  Self-employed   \n",
       "\n",
       "      Residence_type  avg_glucose_level   bmi   smoking_status  stroke  \n",
       "id                                                                      \n",
       "9046           Urban             228.69  36.6  formerly smoked       1  \n",
       "51676          Rural             202.21   NaN     never smoked       1  "
      ]
     },
     "execution_count": 3,
     "metadata": {},
     "output_type": "execute_result"
    }
   ],
   "source": [
    "# setting id as our index\n",
    "df.set_index('id', inplace=True)\n",
    "df.head(2)"
   ]
  },
  {
   "cell_type": "code",
   "execution_count": 4,
   "id": "735f0dea",
   "metadata": {},
   "outputs": [
    {
     "name": "stdout",
     "output_type": "stream",
     "text": [
      "<class 'pandas.core.frame.DataFrame'>\n",
      "Int64Index: 5110 entries, 9046 to 44679\n",
      "Data columns (total 11 columns):\n",
      " #   Column             Non-Null Count  Dtype  \n",
      "---  ------             --------------  -----  \n",
      " 0   gender             5110 non-null   object \n",
      " 1   age                5110 non-null   float64\n",
      " 2   hypertension       5110 non-null   int64  \n",
      " 3   heart_disease      5110 non-null   int64  \n",
      " 4   ever_married       5110 non-null   object \n",
      " 5   work_type          5110 non-null   object \n",
      " 6   Residence_type     5110 non-null   object \n",
      " 7   avg_glucose_level  5110 non-null   float64\n",
      " 8   bmi                4909 non-null   float64\n",
      " 9   smoking_status     5110 non-null   object \n",
      " 10  stroke             5110 non-null   int64  \n",
      "dtypes: float64(3), int64(3), object(5)\n",
      "memory usage: 479.1+ KB\n"
     ]
    }
   ],
   "source": [
    "# to check general info about the dataset\n",
    "df.info()"
   ]
  },
  {
   "cell_type": "markdown",
   "id": "b164cab4",
   "metadata": {},
   "source": [
    "## 2. Data cleaning"
   ]
  },
  {
   "cell_type": "markdown",
   "id": "88f78062",
   "metadata": {},
   "source": [
    "From the general information about the dataset, we can observe that there are missing values in the BMI column. Now let's check how many of them."
   ]
  },
  {
   "cell_type": "code",
   "execution_count": 5,
   "id": "ee6fcbe2",
   "metadata": {},
   "outputs": [
    {
     "data": {
      "text/plain": [
       "gender                 0\n",
       "age                    0\n",
       "hypertension           0\n",
       "heart_disease          0\n",
       "ever_married           0\n",
       "work_type              0\n",
       "Residence_type         0\n",
       "avg_glucose_level      0\n",
       "bmi                  201\n",
       "smoking_status         0\n",
       "stroke                 0\n",
       "dtype: int64"
      ]
     },
     "execution_count": 5,
     "metadata": {},
     "output_type": "execute_result"
    }
   ],
   "source": [
    "df.isna().sum()"
   ]
  },
  {
   "cell_type": "markdown",
   "id": "237fc833",
   "metadata": {},
   "source": [
    "With this we can observe that all 201 NaN values are from the BMI column. One option to deal with missing values is to simply drop them if we have a big enough dataset. In our case, because we have an unevenly distributed dataset (as more people didn't have a stroke), and since we know from the medical literature that BMI is not dependent on age or sex, we will fill all NaN values with the BMI average. "
   ]
  },
  {
   "cell_type": "code",
   "execution_count": 6,
   "id": "7a2aa4cb",
   "metadata": {},
   "outputs": [
    {
     "name": "stdout",
     "output_type": "stream",
     "text": [
      "<class 'pandas.core.frame.DataFrame'>\n",
      "Int64Index: 5110 entries, 9046 to 44679\n",
      "Data columns (total 11 columns):\n",
      " #   Column             Non-Null Count  Dtype  \n",
      "---  ------             --------------  -----  \n",
      " 0   gender             5110 non-null   object \n",
      " 1   age                5110 non-null   float64\n",
      " 2   hypertension       5110 non-null   int64  \n",
      " 3   heart_disease      5110 non-null   int64  \n",
      " 4   ever_married       5110 non-null   object \n",
      " 5   work_type          5110 non-null   object \n",
      " 6   Residence_type     5110 non-null   object \n",
      " 7   avg_glucose_level  5110 non-null   float64\n",
      " 8   bmi                5110 non-null   float64\n",
      " 9   smoking_status     5110 non-null   object \n",
      " 10  stroke             5110 non-null   int64  \n",
      "dtypes: float64(3), int64(3), object(5)\n",
      "memory usage: 479.1+ KB\n"
     ]
    }
   ],
   "source": [
    "df['bmi'] = df['bmi'].fillna(df['bmi'].mean())\n",
    "df.info()"
   ]
  },
  {
   "cell_type": "code",
   "execution_count": 7,
   "id": "ba4b5db9",
   "metadata": {},
   "outputs": [
    {
     "data": {
      "text/html": [
       "<div>\n",
       "<style scoped>\n",
       "    .dataframe tbody tr th:only-of-type {\n",
       "        vertical-align: middle;\n",
       "    }\n",
       "\n",
       "    .dataframe tbody tr th {\n",
       "        vertical-align: top;\n",
       "    }\n",
       "\n",
       "    .dataframe thead tr th {\n",
       "        text-align: left;\n",
       "    }\n",
       "\n",
       "    .dataframe thead tr:last-of-type th {\n",
       "        text-align: right;\n",
       "    }\n",
       "</style>\n",
       "<table border=\"1\" class=\"dataframe\">\n",
       "  <thead>\n",
       "    <tr>\n",
       "      <th></th>\n",
       "      <th colspan=\"8\" halign=\"left\">age</th>\n",
       "      <th colspan=\"2\" halign=\"left\">hypertension</th>\n",
       "      <th>...</th>\n",
       "      <th colspan=\"2\" halign=\"left\">bmi</th>\n",
       "      <th colspan=\"8\" halign=\"left\">stroke</th>\n",
       "    </tr>\n",
       "    <tr>\n",
       "      <th></th>\n",
       "      <th>count</th>\n",
       "      <th>mean</th>\n",
       "      <th>std</th>\n",
       "      <th>min</th>\n",
       "      <th>25%</th>\n",
       "      <th>50%</th>\n",
       "      <th>75%</th>\n",
       "      <th>max</th>\n",
       "      <th>count</th>\n",
       "      <th>mean</th>\n",
       "      <th>...</th>\n",
       "      <th>75%</th>\n",
       "      <th>max</th>\n",
       "      <th>count</th>\n",
       "      <th>mean</th>\n",
       "      <th>std</th>\n",
       "      <th>min</th>\n",
       "      <th>25%</th>\n",
       "      <th>50%</th>\n",
       "      <th>75%</th>\n",
       "      <th>max</th>\n",
       "    </tr>\n",
       "    <tr>\n",
       "      <th>gender</th>\n",
       "      <th></th>\n",
       "      <th></th>\n",
       "      <th></th>\n",
       "      <th></th>\n",
       "      <th></th>\n",
       "      <th></th>\n",
       "      <th></th>\n",
       "      <th></th>\n",
       "      <th></th>\n",
       "      <th></th>\n",
       "      <th></th>\n",
       "      <th></th>\n",
       "      <th></th>\n",
       "      <th></th>\n",
       "      <th></th>\n",
       "      <th></th>\n",
       "      <th></th>\n",
       "      <th></th>\n",
       "      <th></th>\n",
       "      <th></th>\n",
       "      <th></th>\n",
       "    </tr>\n",
       "  </thead>\n",
       "  <tbody>\n",
       "    <tr>\n",
       "      <th>Female</th>\n",
       "      <td>2994.0</td>\n",
       "      <td>43.757395</td>\n",
       "      <td>21.966561</td>\n",
       "      <td>0.08</td>\n",
       "      <td>27.0</td>\n",
       "      <td>44.0</td>\n",
       "      <td>61.0</td>\n",
       "      <td>82.0</td>\n",
       "      <td>2994.0</td>\n",
       "      <td>0.092184</td>\n",
       "      <td>...</td>\n",
       "      <td>33.3</td>\n",
       "      <td>78.0</td>\n",
       "      <td>2994.0</td>\n",
       "      <td>0.047094</td>\n",
       "      <td>0.211876</td>\n",
       "      <td>0.0</td>\n",
       "      <td>0.0</td>\n",
       "      <td>0.0</td>\n",
       "      <td>0.0</td>\n",
       "      <td>1.0</td>\n",
       "    </tr>\n",
       "    <tr>\n",
       "      <th>Male</th>\n",
       "      <td>2115.0</td>\n",
       "      <td>42.483385</td>\n",
       "      <td>23.484066</td>\n",
       "      <td>0.08</td>\n",
       "      <td>22.0</td>\n",
       "      <td>46.0</td>\n",
       "      <td>61.0</td>\n",
       "      <td>82.0</td>\n",
       "      <td>2115.0</td>\n",
       "      <td>0.104965</td>\n",
       "      <td>...</td>\n",
       "      <td>32.2</td>\n",
       "      <td>97.6</td>\n",
       "      <td>2115.0</td>\n",
       "      <td>0.051064</td>\n",
       "      <td>0.220180</td>\n",
       "      <td>0.0</td>\n",
       "      <td>0.0</td>\n",
       "      <td>0.0</td>\n",
       "      <td>0.0</td>\n",
       "      <td>1.0</td>\n",
       "    </tr>\n",
       "    <tr>\n",
       "      <th>Other</th>\n",
       "      <td>1.0</td>\n",
       "      <td>26.000000</td>\n",
       "      <td>NaN</td>\n",
       "      <td>26.00</td>\n",
       "      <td>26.0</td>\n",
       "      <td>26.0</td>\n",
       "      <td>26.0</td>\n",
       "      <td>26.0</td>\n",
       "      <td>1.0</td>\n",
       "      <td>0.000000</td>\n",
       "      <td>...</td>\n",
       "      <td>22.4</td>\n",
       "      <td>22.4</td>\n",
       "      <td>1.0</td>\n",
       "      <td>0.000000</td>\n",
       "      <td>NaN</td>\n",
       "      <td>0.0</td>\n",
       "      <td>0.0</td>\n",
       "      <td>0.0</td>\n",
       "      <td>0.0</td>\n",
       "      <td>0.0</td>\n",
       "    </tr>\n",
       "  </tbody>\n",
       "</table>\n",
       "<p>3 rows × 48 columns</p>\n",
       "</div>"
      ],
      "text/plain": [
       "           age                                                       \\\n",
       "         count       mean        std    min   25%   50%   75%   max   \n",
       "gender                                                                \n",
       "Female  2994.0  43.757395  21.966561   0.08  27.0  44.0  61.0  82.0   \n",
       "Male    2115.0  42.483385  23.484066   0.08  22.0  46.0  61.0  82.0   \n",
       "Other      1.0  26.000000        NaN  26.00  26.0  26.0  26.0  26.0   \n",
       "\n",
       "       hypertension            ...   bmi        stroke                      \\\n",
       "              count      mean  ...   75%   max   count      mean       std   \n",
       "gender                         ...                                           \n",
       "Female       2994.0  0.092184  ...  33.3  78.0  2994.0  0.047094  0.211876   \n",
       "Male         2115.0  0.104965  ...  32.2  97.6  2115.0  0.051064  0.220180   \n",
       "Other           1.0  0.000000  ...  22.4  22.4     1.0  0.000000       NaN   \n",
       "\n",
       "                                 \n",
       "        min  25%  50%  75%  max  \n",
       "gender                           \n",
       "Female  0.0  0.0  0.0  0.0  1.0  \n",
       "Male    0.0  0.0  0.0  0.0  1.0  \n",
       "Other   0.0  0.0  0.0  0.0  0.0  \n",
       "\n",
       "[3 rows x 48 columns]"
      ]
     },
     "execution_count": 7,
     "metadata": {},
     "output_type": "execute_result"
    }
   ],
   "source": [
    "# to group by gender\n",
    "group = df.groupby(['gender'])\n",
    "group.describe()"
   ]
  },
  {
   "cell_type": "markdown",
   "id": "8b508c7e",
   "metadata": {},
   "source": [
    "From this we can see that we only have one patient with gender = 'other'. Since we can't make any inferences with n = 1, we will simply drop this row."
   ]
  },
  {
   "cell_type": "code",
   "execution_count": 8,
   "id": "5f06b0f6",
   "metadata": {},
   "outputs": [],
   "source": [
    "# to delete a row that contains 'Other' on the column gender\n",
    "df1 = df[~df.gender.str.contains(\"Other\")]"
   ]
  },
  {
   "cell_type": "code",
   "execution_count": 9,
   "id": "e6959c3d",
   "metadata": {},
   "outputs": [
    {
     "data": {
      "text/html": [
       "<div>\n",
       "<style scoped>\n",
       "    .dataframe tbody tr th:only-of-type {\n",
       "        vertical-align: middle;\n",
       "    }\n",
       "\n",
       "    .dataframe tbody tr th {\n",
       "        vertical-align: top;\n",
       "    }\n",
       "\n",
       "    .dataframe thead tr th {\n",
       "        text-align: left;\n",
       "    }\n",
       "\n",
       "    .dataframe thead tr:last-of-type th {\n",
       "        text-align: right;\n",
       "    }\n",
       "</style>\n",
       "<table border=\"1\" class=\"dataframe\">\n",
       "  <thead>\n",
       "    <tr>\n",
       "      <th></th>\n",
       "      <th colspan=\"8\" halign=\"left\">age</th>\n",
       "      <th colspan=\"2\" halign=\"left\">hypertension</th>\n",
       "      <th>...</th>\n",
       "      <th colspan=\"2\" halign=\"left\">bmi</th>\n",
       "      <th colspan=\"8\" halign=\"left\">stroke</th>\n",
       "    </tr>\n",
       "    <tr>\n",
       "      <th></th>\n",
       "      <th>count</th>\n",
       "      <th>mean</th>\n",
       "      <th>std</th>\n",
       "      <th>min</th>\n",
       "      <th>25%</th>\n",
       "      <th>50%</th>\n",
       "      <th>75%</th>\n",
       "      <th>max</th>\n",
       "      <th>count</th>\n",
       "      <th>mean</th>\n",
       "      <th>...</th>\n",
       "      <th>75%</th>\n",
       "      <th>max</th>\n",
       "      <th>count</th>\n",
       "      <th>mean</th>\n",
       "      <th>std</th>\n",
       "      <th>min</th>\n",
       "      <th>25%</th>\n",
       "      <th>50%</th>\n",
       "      <th>75%</th>\n",
       "      <th>max</th>\n",
       "    </tr>\n",
       "    <tr>\n",
       "      <th>gender</th>\n",
       "      <th></th>\n",
       "      <th></th>\n",
       "      <th></th>\n",
       "      <th></th>\n",
       "      <th></th>\n",
       "      <th></th>\n",
       "      <th></th>\n",
       "      <th></th>\n",
       "      <th></th>\n",
       "      <th></th>\n",
       "      <th></th>\n",
       "      <th></th>\n",
       "      <th></th>\n",
       "      <th></th>\n",
       "      <th></th>\n",
       "      <th></th>\n",
       "      <th></th>\n",
       "      <th></th>\n",
       "      <th></th>\n",
       "      <th></th>\n",
       "      <th></th>\n",
       "    </tr>\n",
       "  </thead>\n",
       "  <tbody>\n",
       "    <tr>\n",
       "      <th>Female</th>\n",
       "      <td>2994.0</td>\n",
       "      <td>43.757395</td>\n",
       "      <td>21.966561</td>\n",
       "      <td>0.08</td>\n",
       "      <td>27.0</td>\n",
       "      <td>44.0</td>\n",
       "      <td>61.0</td>\n",
       "      <td>82.0</td>\n",
       "      <td>2994.0</td>\n",
       "      <td>0.092184</td>\n",
       "      <td>...</td>\n",
       "      <td>33.3</td>\n",
       "      <td>78.0</td>\n",
       "      <td>2994.0</td>\n",
       "      <td>0.047094</td>\n",
       "      <td>0.211876</td>\n",
       "      <td>0.0</td>\n",
       "      <td>0.0</td>\n",
       "      <td>0.0</td>\n",
       "      <td>0.0</td>\n",
       "      <td>1.0</td>\n",
       "    </tr>\n",
       "    <tr>\n",
       "      <th>Male</th>\n",
       "      <td>2115.0</td>\n",
       "      <td>42.483385</td>\n",
       "      <td>23.484066</td>\n",
       "      <td>0.08</td>\n",
       "      <td>22.0</td>\n",
       "      <td>46.0</td>\n",
       "      <td>61.0</td>\n",
       "      <td>82.0</td>\n",
       "      <td>2115.0</td>\n",
       "      <td>0.104965</td>\n",
       "      <td>...</td>\n",
       "      <td>32.2</td>\n",
       "      <td>97.6</td>\n",
       "      <td>2115.0</td>\n",
       "      <td>0.051064</td>\n",
       "      <td>0.220180</td>\n",
       "      <td>0.0</td>\n",
       "      <td>0.0</td>\n",
       "      <td>0.0</td>\n",
       "      <td>0.0</td>\n",
       "      <td>1.0</td>\n",
       "    </tr>\n",
       "  </tbody>\n",
       "</table>\n",
       "<p>2 rows × 48 columns</p>\n",
       "</div>"
      ],
      "text/plain": [
       "           age                                                      \\\n",
       "         count       mean        std   min   25%   50%   75%   max   \n",
       "gender                                                               \n",
       "Female  2994.0  43.757395  21.966561  0.08  27.0  44.0  61.0  82.0   \n",
       "Male    2115.0  42.483385  23.484066  0.08  22.0  46.0  61.0  82.0   \n",
       "\n",
       "       hypertension            ...   bmi        stroke                      \\\n",
       "              count      mean  ...   75%   max   count      mean       std   \n",
       "gender                         ...                                           \n",
       "Female       2994.0  0.092184  ...  33.3  78.0  2994.0  0.047094  0.211876   \n",
       "Male         2115.0  0.104965  ...  32.2  97.6  2115.0  0.051064  0.220180   \n",
       "\n",
       "                                 \n",
       "        min  25%  50%  75%  max  \n",
       "gender                           \n",
       "Female  0.0  0.0  0.0  0.0  1.0  \n",
       "Male    0.0  0.0  0.0  0.0  1.0  \n",
       "\n",
       "[2 rows x 48 columns]"
      ]
     },
     "execution_count": 9,
     "metadata": {},
     "output_type": "execute_result"
    }
   ],
   "source": [
    "# to check if the gender = other has been deleted\n",
    "group_df1 = df1.groupby(['gender'])\n",
    "group_df1.describe()"
   ]
  },
  {
   "cell_type": "code",
   "execution_count": 10,
   "id": "040f3bd0",
   "metadata": {},
   "outputs": [
    {
     "data": {
      "text/plain": [
       "gender               0\n",
       "age                  0\n",
       "hypertension         0\n",
       "heart_disease        0\n",
       "ever_married         0\n",
       "work_type            0\n",
       "Residence_type       0\n",
       "avg_glucose_level    0\n",
       "bmi                  0\n",
       "smoking_status       0\n",
       "stroke               0\n",
       "dtype: int64"
      ]
     },
     "execution_count": 10,
     "metadata": {},
     "output_type": "execute_result"
    }
   ],
   "source": [
    "# double-checking if we still have any null values\n",
    "df1.isna().sum()"
   ]
  },
  {
   "cell_type": "markdown",
   "id": "cef8c2f1",
   "metadata": {},
   "source": [
    "Now that we have cleaned the dataset, we can proceed to visualize our data."
   ]
  },
  {
   "cell_type": "markdown",
   "id": "56a38f44",
   "metadata": {},
   "source": [
    "## 3. Exploratory data analysis"
   ]
  },
  {
   "cell_type": "markdown",
   "id": "ada0a148",
   "metadata": {},
   "source": [
    "### 3.1 Age"
   ]
  },
  {
   "cell_type": "markdown",
   "id": "9c5a2505",
   "metadata": {},
   "source": [
    "To make if easier to visualize the possible relationship between age and the incidence of strokes, let's first create a new column for age groups and assign our patients to those groups depending on their age."
   ]
  },
  {
   "cell_type": "code",
   "execution_count": 11,
   "id": "f4f9e29b",
   "metadata": {},
   "outputs": [
    {
     "data": {
      "text/html": [
       "<div>\n",
       "<style scoped>\n",
       "    .dataframe tbody tr th:only-of-type {\n",
       "        vertical-align: middle;\n",
       "    }\n",
       "\n",
       "    .dataframe tbody tr th {\n",
       "        vertical-align: top;\n",
       "    }\n",
       "\n",
       "    .dataframe thead th {\n",
       "        text-align: right;\n",
       "    }\n",
       "</style>\n",
       "<table border=\"1\" class=\"dataframe\">\n",
       "  <thead>\n",
       "    <tr style=\"text-align: right;\">\n",
       "      <th></th>\n",
       "      <th>gender</th>\n",
       "      <th>age</th>\n",
       "      <th>hypertension</th>\n",
       "      <th>heart_disease</th>\n",
       "      <th>ever_married</th>\n",
       "      <th>work_type</th>\n",
       "      <th>Residence_type</th>\n",
       "      <th>avg_glucose_level</th>\n",
       "      <th>bmi</th>\n",
       "      <th>smoking_status</th>\n",
       "      <th>stroke</th>\n",
       "      <th>age group</th>\n",
       "    </tr>\n",
       "    <tr>\n",
       "      <th>id</th>\n",
       "      <th></th>\n",
       "      <th></th>\n",
       "      <th></th>\n",
       "      <th></th>\n",
       "      <th></th>\n",
       "      <th></th>\n",
       "      <th></th>\n",
       "      <th></th>\n",
       "      <th></th>\n",
       "      <th></th>\n",
       "      <th></th>\n",
       "      <th></th>\n",
       "    </tr>\n",
       "  </thead>\n",
       "  <tbody>\n",
       "    <tr>\n",
       "      <th>9046</th>\n",
       "      <td>Male</td>\n",
       "      <td>67.0</td>\n",
       "      <td>0</td>\n",
       "      <td>1</td>\n",
       "      <td>Yes</td>\n",
       "      <td>Private</td>\n",
       "      <td>Urban</td>\n",
       "      <td>228.69</td>\n",
       "      <td>36.600000</td>\n",
       "      <td>formerly smoked</td>\n",
       "      <td>1</td>\n",
       "      <td></td>\n",
       "    </tr>\n",
       "    <tr>\n",
       "      <th>51676</th>\n",
       "      <td>Female</td>\n",
       "      <td>61.0</td>\n",
       "      <td>0</td>\n",
       "      <td>0</td>\n",
       "      <td>Yes</td>\n",
       "      <td>Self-employed</td>\n",
       "      <td>Rural</td>\n",
       "      <td>202.21</td>\n",
       "      <td>28.893237</td>\n",
       "      <td>never smoked</td>\n",
       "      <td>1</td>\n",
       "      <td></td>\n",
       "    </tr>\n",
       "    <tr>\n",
       "      <th>31112</th>\n",
       "      <td>Male</td>\n",
       "      <td>80.0</td>\n",
       "      <td>0</td>\n",
       "      <td>1</td>\n",
       "      <td>Yes</td>\n",
       "      <td>Private</td>\n",
       "      <td>Rural</td>\n",
       "      <td>105.92</td>\n",
       "      <td>32.500000</td>\n",
       "      <td>never smoked</td>\n",
       "      <td>1</td>\n",
       "      <td></td>\n",
       "    </tr>\n",
       "    <tr>\n",
       "      <th>60182</th>\n",
       "      <td>Female</td>\n",
       "      <td>49.0</td>\n",
       "      <td>0</td>\n",
       "      <td>0</td>\n",
       "      <td>Yes</td>\n",
       "      <td>Private</td>\n",
       "      <td>Urban</td>\n",
       "      <td>171.23</td>\n",
       "      <td>34.400000</td>\n",
       "      <td>smokes</td>\n",
       "      <td>1</td>\n",
       "      <td></td>\n",
       "    </tr>\n",
       "    <tr>\n",
       "      <th>1665</th>\n",
       "      <td>Female</td>\n",
       "      <td>79.0</td>\n",
       "      <td>1</td>\n",
       "      <td>0</td>\n",
       "      <td>Yes</td>\n",
       "      <td>Self-employed</td>\n",
       "      <td>Rural</td>\n",
       "      <td>174.12</td>\n",
       "      <td>24.000000</td>\n",
       "      <td>never smoked</td>\n",
       "      <td>1</td>\n",
       "      <td></td>\n",
       "    </tr>\n",
       "  </tbody>\n",
       "</table>\n",
       "</div>"
      ],
      "text/plain": [
       "       gender   age  hypertension  heart_disease ever_married      work_type  \\\n",
       "id                                                                             \n",
       "9046     Male  67.0             0              1          Yes        Private   \n",
       "51676  Female  61.0             0              0          Yes  Self-employed   \n",
       "31112    Male  80.0             0              1          Yes        Private   \n",
       "60182  Female  49.0             0              0          Yes        Private   \n",
       "1665   Female  79.0             1              0          Yes  Self-employed   \n",
       "\n",
       "      Residence_type  avg_glucose_level        bmi   smoking_status  stroke  \\\n",
       "id                                                                            \n",
       "9046           Urban             228.69  36.600000  formerly smoked       1   \n",
       "51676          Rural             202.21  28.893237     never smoked       1   \n",
       "31112          Rural             105.92  32.500000     never smoked       1   \n",
       "60182          Urban             171.23  34.400000           smokes       1   \n",
       "1665           Rural             174.12  24.000000     never smoked       1   \n",
       "\n",
       "      age group  \n",
       "id               \n",
       "9046             \n",
       "51676            \n",
       "31112            \n",
       "60182            \n",
       "1665             "
      ]
     },
     "execution_count": 11,
     "metadata": {},
     "output_type": "execute_result"
    }
   ],
   "source": [
    "# create empty column for age_group\n",
    "df1['age group'] = ''\n",
    "df1.head()"
   ]
  },
  {
   "cell_type": "code",
   "execution_count": 12,
   "id": "c322b454",
   "metadata": {},
   "outputs": [
    {
     "data": {
      "text/html": [
       "<div>\n",
       "<style scoped>\n",
       "    .dataframe tbody tr th:only-of-type {\n",
       "        vertical-align: middle;\n",
       "    }\n",
       "\n",
       "    .dataframe tbody tr th {\n",
       "        vertical-align: top;\n",
       "    }\n",
       "\n",
       "    .dataframe thead th {\n",
       "        text-align: right;\n",
       "    }\n",
       "</style>\n",
       "<table border=\"1\" class=\"dataframe\">\n",
       "  <thead>\n",
       "    <tr style=\"text-align: right;\">\n",
       "      <th></th>\n",
       "      <th>gender</th>\n",
       "      <th>age</th>\n",
       "      <th>hypertension</th>\n",
       "      <th>heart_disease</th>\n",
       "      <th>ever_married</th>\n",
       "      <th>work_type</th>\n",
       "      <th>Residence_type</th>\n",
       "      <th>avg_glucose_level</th>\n",
       "      <th>bmi</th>\n",
       "      <th>smoking_status</th>\n",
       "      <th>stroke</th>\n",
       "      <th>age group</th>\n",
       "    </tr>\n",
       "    <tr>\n",
       "      <th>id</th>\n",
       "      <th></th>\n",
       "      <th></th>\n",
       "      <th></th>\n",
       "      <th></th>\n",
       "      <th></th>\n",
       "      <th></th>\n",
       "      <th></th>\n",
       "      <th></th>\n",
       "      <th></th>\n",
       "      <th></th>\n",
       "      <th></th>\n",
       "      <th></th>\n",
       "    </tr>\n",
       "  </thead>\n",
       "  <tbody>\n",
       "    <tr>\n",
       "      <th>9046</th>\n",
       "      <td>Male</td>\n",
       "      <td>67.0</td>\n",
       "      <td>0</td>\n",
       "      <td>1</td>\n",
       "      <td>Yes</td>\n",
       "      <td>Private</td>\n",
       "      <td>Urban</td>\n",
       "      <td>228.69</td>\n",
       "      <td>36.600000</td>\n",
       "      <td>formerly smoked</td>\n",
       "      <td>1</td>\n",
       "      <td>60-69</td>\n",
       "    </tr>\n",
       "    <tr>\n",
       "      <th>51676</th>\n",
       "      <td>Female</td>\n",
       "      <td>61.0</td>\n",
       "      <td>0</td>\n",
       "      <td>0</td>\n",
       "      <td>Yes</td>\n",
       "      <td>Self-employed</td>\n",
       "      <td>Rural</td>\n",
       "      <td>202.21</td>\n",
       "      <td>28.893237</td>\n",
       "      <td>never smoked</td>\n",
       "      <td>1</td>\n",
       "      <td>60-69</td>\n",
       "    </tr>\n",
       "    <tr>\n",
       "      <th>31112</th>\n",
       "      <td>Male</td>\n",
       "      <td>80.0</td>\n",
       "      <td>0</td>\n",
       "      <td>1</td>\n",
       "      <td>Yes</td>\n",
       "      <td>Private</td>\n",
       "      <td>Rural</td>\n",
       "      <td>105.92</td>\n",
       "      <td>32.500000</td>\n",
       "      <td>never smoked</td>\n",
       "      <td>1</td>\n",
       "      <td>80-89</td>\n",
       "    </tr>\n",
       "    <tr>\n",
       "      <th>60182</th>\n",
       "      <td>Female</td>\n",
       "      <td>49.0</td>\n",
       "      <td>0</td>\n",
       "      <td>0</td>\n",
       "      <td>Yes</td>\n",
       "      <td>Private</td>\n",
       "      <td>Urban</td>\n",
       "      <td>171.23</td>\n",
       "      <td>34.400000</td>\n",
       "      <td>smokes</td>\n",
       "      <td>1</td>\n",
       "      <td>40-49</td>\n",
       "    </tr>\n",
       "    <tr>\n",
       "      <th>1665</th>\n",
       "      <td>Female</td>\n",
       "      <td>79.0</td>\n",
       "      <td>1</td>\n",
       "      <td>0</td>\n",
       "      <td>Yes</td>\n",
       "      <td>Self-employed</td>\n",
       "      <td>Rural</td>\n",
       "      <td>174.12</td>\n",
       "      <td>24.000000</td>\n",
       "      <td>never smoked</td>\n",
       "      <td>1</td>\n",
       "      <td>70-79</td>\n",
       "    </tr>\n",
       "  </tbody>\n",
       "</table>\n",
       "</div>"
      ],
      "text/plain": [
       "       gender   age  hypertension  heart_disease ever_married      work_type  \\\n",
       "id                                                                             \n",
       "9046     Male  67.0             0              1          Yes        Private   \n",
       "51676  Female  61.0             0              0          Yes  Self-employed   \n",
       "31112    Male  80.0             0              1          Yes        Private   \n",
       "60182  Female  49.0             0              0          Yes        Private   \n",
       "1665   Female  79.0             1              0          Yes  Self-employed   \n",
       "\n",
       "      Residence_type  avg_glucose_level        bmi   smoking_status  stroke  \\\n",
       "id                                                                            \n",
       "9046           Urban             228.69  36.600000  formerly smoked       1   \n",
       "51676          Rural             202.21  28.893237     never smoked       1   \n",
       "31112          Rural             105.92  32.500000     never smoked       1   \n",
       "60182          Urban             171.23  34.400000           smokes       1   \n",
       "1665           Rural             174.12  24.000000     never smoked       1   \n",
       "\n",
       "      age group  \n",
       "id               \n",
       "9046      60-69  \n",
       "51676     60-69  \n",
       "31112     80-89  \n",
       "60182     40-49  \n",
       "1665      70-79  "
      ]
     },
     "execution_count": 12,
     "metadata": {},
     "output_type": "execute_result"
    }
   ],
   "source": [
    "# create age groups to fill up that column\n",
    "\n",
    "df1.loc[(df1.age <= 4),  'age group'] = '0-04'\n",
    "df1.loc[(df1.age >= 5) & (df1.age < 10),  'age group'] = '05-09'\n",
    "df1.loc[(df1.age >= 10) & (df1.age < 15),  'age group'] = '10-14'\n",
    "df1.loc[(df1.age >= 15) & (df1.age < 20),  'age group'] = '15-19'\n",
    "df1.loc[(df1.age >= 20) & (df1.age < 30),  'age group'] = '20-29'\n",
    "df1.loc[(df1.age >= 30) & (df1.age < 40),  'age group'] = '30-39'\n",
    "df1.loc[(df1.age >= 40) & (df1.age < 50),  'age group'] = '40-49'\n",
    "df1.loc[(df1.age >= 50) & (df1.age < 60),  'age group'] = '50-59'\n",
    "df1.loc[(df1.age >= 60) & (df1.age < 70),  'age group'] = '60-69'\n",
    "df1.loc[(df1.age >= 70) & (df1.age < 80),  'age group'] = '70-79'\n",
    "df1.loc[(df1.age >= 80) & (df1.age < 90),  'age group'] = '80-89'\n",
    "df1.loc[(df1.age >= 90) & (df1.age < 100),  'age group'] = '90-99'\n",
    "\n",
    "df1.head()"
   ]
  },
  {
   "cell_type": "markdown",
   "id": "28844ad2",
   "metadata": {},
   "source": [
    "Now let's visualize the possible relationships between the patient's age and the incidence of strokes. We will do that using a 100% stacked bar chart between the two variables."
   ]
  },
  {
   "cell_type": "code",
   "execution_count": 13,
   "id": "9c0da375",
   "metadata": {},
   "outputs": [
    {
     "data": {
      "text/plain": [
       "Text(0.5, 1.0, 'Incidence of stroke per age group')"
      ]
     },
     "execution_count": 13,
     "metadata": {},
     "output_type": "execute_result"
    },
    {
     "data": {
      "image/png": "[encoded data removed]",
      "text/plain": [
       "<Figure size 432x432 with 1 Axes>"
      ]
     },
     "metadata": {},
     "output_type": "display_data"
    }
   ],
   "source": [
    "df1.groupby('age group')['stroke'].value_counts(normalize=True).unstack('stroke').plot.bar(stacked=True, figsize = (6,6), width = 0.9)\n",
    "plt.xlabel(\"Age group\")\n",
    "plt.ylabel(\"Normalized count\")\n",
    "plt.title('Incidence of stroke per age group')"
   ]
  },
  {
   "cell_type": "markdown",
   "id": "bd4bc797",
   "metadata": {},
   "source": [
    "With this graph we can observe that the risk of experiencing a stroke seems to increase with age, as more people in the age group 80-89 had the highest prevalence of strokes."
   ]
  },
  {
   "cell_type": "markdown",
   "id": "666118a1",
   "metadata": {},
   "source": [
    "### 3.2 BMI"
   ]
  },
  {
   "cell_type": "code",
   "execution_count": 14,
   "id": "edae9950",
   "metadata": {},
   "outputs": [
    {
     "data": {
      "text/plain": [
       "Text(0.5, 1.0, 'Incidence of stroke x BMI')"
      ]
     },
     "execution_count": 14,
     "metadata": {},
     "output_type": "execute_result"
    },
    {
     "data": {
      "image/png": "[encoded data removed]",
      "text/plain": [
       "<Figure size 432x432 with 1 Axes>"
      ]
     },
     "metadata": {},
     "output_type": "display_data"
    }
   ],
   "source": [
    "# To create the figure and setting the dimensions\n",
    "fig, ax = plt.subplots(figsize=(6,6))\n",
    "\n",
    "# To create the boxplot for stroke and BMI\n",
    "ax = sns.boxplot(x='stroke', y='bmi', data=df1, palette = 'mako')\n",
    "ax.set_xlabel('Stroke')\n",
    "ax.set_ylabel('BMI')\n",
    "ax.set_title('Incidence of stroke x BMI')"
   ]
  },
  {
   "cell_type": "markdown",
   "id": "d7b4fedc",
   "metadata": {},
   "source": [
    "Here we can observe that BMI does not seem to impact the incidence of strokes."
   ]
  },
  {
   "cell_type": "markdown",
   "id": "db89c715",
   "metadata": {},
   "source": [
    "### 3.3 Average glucose levels"
   ]
  },
  {
   "cell_type": "code",
   "execution_count": 15,
   "id": "c00c09f4",
   "metadata": {},
   "outputs": [
    {
     "data": {
      "text/plain": [
       "Text(0.5, 1.0, 'Incidence of stroke x average glucose level')"
      ]
     },
     "execution_count": 15,
     "metadata": {},
     "output_type": "execute_result"
    },
    {
     "data": {
      "image/png": "[encoded data removed]",
      "text/plain": [
       "<Figure size 432x432 with 1 Axes>"
      ]
     },
     "metadata": {},
     "output_type": "display_data"
    }
   ],
   "source": [
    "# To create the figure and setting the dimensions\n",
    "fig, ax = plt.subplots(figsize=(6,6))\n",
    "\n",
    "# To create the boxplot for stroke and BMI\n",
    "ax = sns.boxplot(x='stroke', y='avg_glucose_level', data=df1, palette = 'mako')\n",
    "ax.set_xlabel('Stroke')\n",
    "ax.set_ylabel('Average glucose level')\n",
    "ax.set_title('Incidence of stroke x average glucose level')"
   ]
  },
  {
   "cell_type": "markdown",
   "id": "bebba488",
   "metadata": {},
   "source": [
    "With this graph we can infer that patients that had a stroke, also had higher levels of glucose in their blood."
   ]
  },
  {
   "cell_type": "markdown",
   "id": "a8b12d8d",
   "metadata": {},
   "source": [
    "### 3.4 Hypertension"
   ]
  },
  {
   "cell_type": "code",
   "execution_count": 16,
   "id": "5818e0f7",
   "metadata": {},
   "outputs": [
    {
     "data": {
      "text/plain": [
       "Text(0.5, 1.0, 'Incidence of stroke x hypertension')"
      ]
     },
     "execution_count": 16,
     "metadata": {},
     "output_type": "execute_result"
    },
    {
     "data": {
      "image/png": "[encoded data removed]",
      "text/plain": [
       "<Figure size 432x432 with 1 Axes>"
      ]
     },
     "metadata": {},
     "output_type": "display_data"
    }
   ],
   "source": [
    "df1.groupby('hypertension')['stroke'].value_counts(normalize=True).unstack('stroke').plot.bar(stacked=True, figsize = (6,6), width = 0.9)\n",
    "plt.xlabel(\"Hypertension\")\n",
    "plt.ylabel(\"Normalized count\")\n",
    "plt.title('Incidence of stroke x hypertension')"
   ]
  },
  {
   "cell_type": "markdown",
   "id": "c3b12cd6",
   "metadata": {},
   "source": [
    "Looking at this graph we can observe that a higher proportion of patients who suffered from hypertension also experienced a stroke."
   ]
  },
  {
   "cell_type": "markdown",
   "id": "a04a9f42",
   "metadata": {},
   "source": [
    "### 3.5 Heart disease"
   ]
  },
  {
   "cell_type": "code",
   "execution_count": 17,
   "id": "affc7c0c",
   "metadata": {},
   "outputs": [
    {
     "data": {
      "text/plain": [
       "Text(0.5, 1.0, 'Incidence of stroke x heart disease')"
      ]
     },
     "execution_count": 17,
     "metadata": {},
     "output_type": "execute_result"
    },
    {
     "data": {
      "image/png": "[encoded data removed]",
      "text/plain": [
       "<Figure size 432x432 with 1 Axes>"
      ]
     },
     "metadata": {},
     "output_type": "display_data"
    }
   ],
   "source": [
    "df1.groupby('heart_disease')['stroke'].value_counts(normalize=True).unstack('stroke').plot.bar(stacked=True, figsize = (6,6), width = 0.9)\n",
    "plt.xlabel(\"Heart disease\")\n",
    "plt.ylabel(\"Normalized count\")\n",
    "plt.title('Incidence of stroke x heart disease')"
   ]
  },
  {
   "cell_type": "markdown",
   "id": "e84fac49",
   "metadata": {},
   "source": [
    "Similarly with hypertension, a higher proportion of patients who suffered from a heart disease also had a stroke."
   ]
  },
  {
   "cell_type": "markdown",
   "id": "e38f8352",
   "metadata": {},
   "source": [
    "### 3.6 Smoking status"
   ]
  },
  {
   "cell_type": "code",
   "execution_count": 18,
   "id": "6ff1b7fe",
   "metadata": {},
   "outputs": [
    {
     "data": {
      "text/plain": [
       "Text(0.5, 1.0, 'Incidence of stroke x smoking status')"
      ]
     },
     "execution_count": 18,
     "metadata": {},
     "output_type": "execute_result"
    },
    {
     "data": {
      "image/png": "[encoded data removed]",
      "text/plain": [
       "<Figure size 432x432 with 1 Axes>"
      ]
     },
     "metadata": {},
     "output_type": "display_data"
    }
   ],
   "source": [
    "df1.groupby('smoking_status')['stroke'].value_counts(normalize=True).unstack('stroke').plot.bar(stacked=True, figsize = (6,6), width = 0.9)\n",
    "plt.xlabel(\"Smoking status\")\n",
    "plt.ylabel(\"Normalized count\")\n",
    "plt.title('Incidence of stroke x smoking status')"
   ]
  },
  {
   "cell_type": "markdown",
   "id": "53472436",
   "metadata": {},
   "source": [
    "As for the smoking status, the group comprising people who formerly smoked seemed to had the higher proportion of people who suffered a stroke."
   ]
  },
  {
   "cell_type": "markdown",
   "id": "233feaa3",
   "metadata": {},
   "source": [
    "### 3.7 Gender"
   ]
  },
  {
   "cell_type": "code",
   "execution_count": 19,
   "id": "ead15185",
   "metadata": {},
   "outputs": [
    {
     "data": {
      "text/plain": [
       "Text(0.5, 1.0, 'Incidence of stroke x gender')"
      ]
     },
     "execution_count": 19,
     "metadata": {},
     "output_type": "execute_result"
    },
    {
     "data": {
      "image/png": "[encoded data removed]",
      "text/plain": [
       "<Figure size 432x432 with 1 Axes>"
      ]
     },
     "metadata": {},
     "output_type": "display_data"
    }
   ],
   "source": [
    "df1.groupby('gender')['stroke'].value_counts(normalize=True).unstack('stroke').plot.bar(stacked=True, figsize = (6,6), width = 0.9)\n",
    "plt.xlabel(\"Gender\")\n",
    "plt.ylabel(\"Normalized count\")\n",
    "plt.title('Incidence of stroke x gender')"
   ]
  },
  {
   "cell_type": "markdown",
   "id": "e0b965d9",
   "metadata": {},
   "source": [
    "As for gender, it doesn't seem to affect the chances of having a stroke, as the proportion of patients who had a stroke was similar between males and females."
   ]
  },
  {
   "cell_type": "markdown",
   "id": "65b52766",
   "metadata": {},
   "source": [
    "### 3.8 Residence type"
   ]
  },
  {
   "cell_type": "code",
   "execution_count": 20,
   "id": "1e163adc",
   "metadata": {},
   "outputs": [
    {
     "data": {
      "text/plain": [
       "Text(0.5, 1.0, 'Incidence of stroke x residence type')"
      ]
     },
     "execution_count": 20,
     "metadata": {},
     "output_type": "execute_result"
    },
    {
     "data": {
      "image/png": "[encoded data removed]",
      "text/plain": [
       "<Figure size 432x432 with 1 Axes>"
      ]
     },
     "metadata": {},
     "output_type": "display_data"
    }
   ],
   "source": [
    "df1.groupby('Residence_type')['stroke'].value_counts(normalize=True).unstack('stroke').plot.bar(stacked=True, figsize = (6,6), width = 0.9)\n",
    "plt.xlabel(\"Residence type\")\n",
    "plt.ylabel(\"Normalized count\")\n",
    "plt.title('Incidence of stroke x residence type')"
   ]
  },
  {
   "cell_type": "markdown",
   "id": "e49be62c",
   "metadata": {},
   "source": [
    "Similarly with gender, residence type also doesn't seem to be affect the chances of having a stroke."
   ]
  },
  {
   "cell_type": "markdown",
   "id": "262585e3",
   "metadata": {},
   "source": [
    "Finally, from our preliminary analysis using EDA, we can infer that:\n",
    "\n",
    "a) Older patients suffered more strokes than their younger counterparts;\n",
    "\n",
    "b) Higher BMI does not appear to increase the risk of having a stroke;\n",
    "\n",
    "c) Patients who had higher levels of glucose in their blood also had more strokes;\n",
    "\n",
    "d) A higher proportion of patients who suffered from hypertension or heart disease experienced a stroke;\n",
    "\n",
    "e) People who formely smoked were the group with the higher percentage of strokes;\n",
    "\n",
    "f) The likelihood of having a stroke was not impacted by the patient's gender or residence type."
   ]
  },
  {
   "cell_type": "markdown",
   "id": "d29bf445",
   "metadata": {},
   "source": [
    "## 4. Correlation between clinical features"
   ]
  },
  {
   "cell_type": "markdown",
   "id": "38d15c7f",
   "metadata": {},
   "source": [
    "In order to be able to perform a correlation between the clinical features, we first need to transform our categorical values into 0s and 1s. For this, we will use LabelEncoder from sklearn. Label Encoder is a technique that will convert categorical data into numeric data by taking the value and converting it into numeric data from 0 to n-1."
   ]
  },
  {
   "cell_type": "code",
   "execution_count": 21,
   "id": "93519f40",
   "metadata": {},
   "outputs": [],
   "source": [
    "# First, let's create a copy of our dataframe\n",
    "df2 = df1.copy()"
   ]
  },
  {
   "cell_type": "code",
   "execution_count": 22,
   "id": "7a34aa21",
   "metadata": {},
   "outputs": [
    {
     "data": {
      "text/html": [
       "<div>\n",
       "<style scoped>\n",
       "    .dataframe tbody tr th:only-of-type {\n",
       "        vertical-align: middle;\n",
       "    }\n",
       "\n",
       "    .dataframe tbody tr th {\n",
       "        vertical-align: top;\n",
       "    }\n",
       "\n",
       "    .dataframe thead th {\n",
       "        text-align: right;\n",
       "    }\n",
       "</style>\n",
       "<table border=\"1\" class=\"dataframe\">\n",
       "  <thead>\n",
       "    <tr style=\"text-align: right;\">\n",
       "      <th></th>\n",
       "      <th>gender</th>\n",
       "      <th>age</th>\n",
       "      <th>hypertension</th>\n",
       "      <th>heart_disease</th>\n",
       "      <th>ever_married</th>\n",
       "      <th>work_type</th>\n",
       "      <th>Residence_type</th>\n",
       "      <th>avg_glucose_level</th>\n",
       "      <th>bmi</th>\n",
       "      <th>smoking_status</th>\n",
       "      <th>stroke</th>\n",
       "      <th>age group</th>\n",
       "    </tr>\n",
       "    <tr>\n",
       "      <th>id</th>\n",
       "      <th></th>\n",
       "      <th></th>\n",
       "      <th></th>\n",
       "      <th></th>\n",
       "      <th></th>\n",
       "      <th></th>\n",
       "      <th></th>\n",
       "      <th></th>\n",
       "      <th></th>\n",
       "      <th></th>\n",
       "      <th></th>\n",
       "      <th></th>\n",
       "    </tr>\n",
       "  </thead>\n",
       "  <tbody>\n",
       "    <tr>\n",
       "      <th>9046</th>\n",
       "      <td>1</td>\n",
       "      <td>67.0</td>\n",
       "      <td>0</td>\n",
       "      <td>1</td>\n",
       "      <td>1</td>\n",
       "      <td>2</td>\n",
       "      <td>1</td>\n",
       "      <td>228.69</td>\n",
       "      <td>36.600000</td>\n",
       "      <td>1</td>\n",
       "      <td>1</td>\n",
       "      <td>60-69</td>\n",
       "    </tr>\n",
       "    <tr>\n",
       "      <th>51676</th>\n",
       "      <td>0</td>\n",
       "      <td>61.0</td>\n",
       "      <td>0</td>\n",
       "      <td>0</td>\n",
       "      <td>1</td>\n",
       "      <td>3</td>\n",
       "      <td>0</td>\n",
       "      <td>202.21</td>\n",
       "      <td>28.893237</td>\n",
       "      <td>2</td>\n",
       "      <td>1</td>\n",
       "      <td>60-69</td>\n",
       "    </tr>\n",
       "    <tr>\n",
       "      <th>31112</th>\n",
       "      <td>1</td>\n",
       "      <td>80.0</td>\n",
       "      <td>0</td>\n",
       "      <td>1</td>\n",
       "      <td>1</td>\n",
       "      <td>2</td>\n",
       "      <td>0</td>\n",
       "      <td>105.92</td>\n",
       "      <td>32.500000</td>\n",
       "      <td>2</td>\n",
       "      <td>1</td>\n",
       "      <td>80-89</td>\n",
       "    </tr>\n",
       "    <tr>\n",
       "      <th>60182</th>\n",
       "      <td>0</td>\n",
       "      <td>49.0</td>\n",
       "      <td>0</td>\n",
       "      <td>0</td>\n",
       "      <td>1</td>\n",
       "      <td>2</td>\n",
       "      <td>1</td>\n",
       "      <td>171.23</td>\n",
       "      <td>34.400000</td>\n",
       "      <td>3</td>\n",
       "      <td>1</td>\n",
       "      <td>40-49</td>\n",
       "    </tr>\n",
       "    <tr>\n",
       "      <th>1665</th>\n",
       "      <td>0</td>\n",
       "      <td>79.0</td>\n",
       "      <td>1</td>\n",
       "      <td>0</td>\n",
       "      <td>1</td>\n",
       "      <td>3</td>\n",
       "      <td>0</td>\n",
       "      <td>174.12</td>\n",
       "      <td>24.000000</td>\n",
       "      <td>2</td>\n",
       "      <td>1</td>\n",
       "      <td>70-79</td>\n",
       "    </tr>\n",
       "  </tbody>\n",
       "</table>\n",
       "</div>"
      ],
      "text/plain": [
       "       gender   age  hypertension  heart_disease  ever_married  work_type  \\\n",
       "id                                                                          \n",
       "9046        1  67.0             0              1             1          2   \n",
       "51676       0  61.0             0              0             1          3   \n",
       "31112       1  80.0             0              1             1          2   \n",
       "60182       0  49.0             0              0             1          2   \n",
       "1665        0  79.0             1              0             1          3   \n",
       "\n",
       "       Residence_type  avg_glucose_level        bmi  smoking_status  stroke  \\\n",
       "id                                                                            \n",
       "9046                1             228.69  36.600000               1       1   \n",
       "51676               0             202.21  28.893237               2       1   \n",
       "31112               0             105.92  32.500000               2       1   \n",
       "60182               1             171.23  34.400000               3       1   \n",
       "1665                0             174.12  24.000000               2       1   \n",
       "\n",
       "      age group  \n",
       "id               \n",
       "9046      60-69  \n",
       "51676     60-69  \n",
       "31112     80-89  \n",
       "60182     40-49  \n",
       "1665      70-79  "
      ]
     },
     "execution_count": 22,
     "metadata": {},
     "output_type": "execute_result"
    }
   ],
   "source": [
    "# To import the sklearn package\n",
    "from sklearn.preprocessing import LabelEncoder\n",
    "le = LabelEncoder()\n",
    "\n",
    "df2['gender'] = le.fit_transform(df2['gender'])\n",
    "df2['ever_married'] = le.fit_transform(df2['ever_married'])\n",
    "df2['work_type'] = le.fit_transform(df2['work_type'])\n",
    "df2['Residence_type'] = le.fit_transform(df2['Residence_type'])\n",
    "df2['smoking_status'] = le.fit_transform(df2['smoking_status'])\n",
    "\n",
    "df2.head()"
   ]
  },
  {
   "cell_type": "markdown",
   "id": "8a83fdeb",
   "metadata": {},
   "source": [
    "The age group was useful for visualizing the relationship between age and the incidence of stroke, but for the correlation we should use either \"age\" or \"age group\", so we're going to drop the later."
   ]
  },
  {
   "cell_type": "code",
   "execution_count": 23,
   "id": "d8124967",
   "metadata": {},
   "outputs": [
    {
     "data": {
      "text/html": [
       "<div>\n",
       "<style scoped>\n",
       "    .dataframe tbody tr th:only-of-type {\n",
       "        vertical-align: middle;\n",
       "    }\n",
       "\n",
       "    .dataframe tbody tr th {\n",
       "        vertical-align: top;\n",
       "    }\n",
       "\n",
       "    .dataframe thead th {\n",
       "        text-align: right;\n",
       "    }\n",
       "</style>\n",
       "<table border=\"1\" class=\"dataframe\">\n",
       "  <thead>\n",
       "    <tr style=\"text-align: right;\">\n",
       "      <th></th>\n",
       "      <th>gender</th>\n",
       "      <th>age</th>\n",
       "      <th>hypertension</th>\n",
       "      <th>heart_disease</th>\n",
       "      <th>ever_married</th>\n",
       "      <th>work_type</th>\n",
       "      <th>Residence_type</th>\n",
       "      <th>avg_glucose_level</th>\n",
       "      <th>bmi</th>\n",
       "      <th>smoking_status</th>\n",
       "      <th>stroke</th>\n",
       "    </tr>\n",
       "    <tr>\n",
       "      <th>id</th>\n",
       "      <th></th>\n",
       "      <th></th>\n",
       "      <th></th>\n",
       "      <th></th>\n",
       "      <th></th>\n",
       "      <th></th>\n",
       "      <th></th>\n",
       "      <th></th>\n",
       "      <th></th>\n",
       "      <th></th>\n",
       "      <th></th>\n",
       "    </tr>\n",
       "  </thead>\n",
       "  <tbody>\n",
       "    <tr>\n",
       "      <th>9046</th>\n",
       "      <td>1</td>\n",
       "      <td>67.0</td>\n",
       "      <td>0</td>\n",
       "      <td>1</td>\n",
       "      <td>1</td>\n",
       "      <td>2</td>\n",
       "      <td>1</td>\n",
       "      <td>228.69</td>\n",
       "      <td>36.600000</td>\n",
       "      <td>1</td>\n",
       "      <td>1</td>\n",
       "    </tr>\n",
       "    <tr>\n",
       "      <th>51676</th>\n",
       "      <td>0</td>\n",
       "      <td>61.0</td>\n",
       "      <td>0</td>\n",
       "      <td>0</td>\n",
       "      <td>1</td>\n",
       "      <td>3</td>\n",
       "      <td>0</td>\n",
       "      <td>202.21</td>\n",
       "      <td>28.893237</td>\n",
       "      <td>2</td>\n",
       "      <td>1</td>\n",
       "    </tr>\n",
       "  </tbody>\n",
       "</table>\n",
       "</div>"
      ],
      "text/plain": [
       "       gender   age  hypertension  heart_disease  ever_married  work_type  \\\n",
       "id                                                                          \n",
       "9046        1  67.0             0              1             1          2   \n",
       "51676       0  61.0             0              0             1          3   \n",
       "\n",
       "       Residence_type  avg_glucose_level        bmi  smoking_status  stroke  \n",
       "id                                                                           \n",
       "9046                1             228.69  36.600000               1       1  \n",
       "51676               0             202.21  28.893237               2       1  "
      ]
     },
     "execution_count": 23,
     "metadata": {},
     "output_type": "execute_result"
    }
   ],
   "source": [
    "df3 = df2.drop(['age group'], axis = 1)\n",
    "df3.head(2)"
   ]
  },
  {
   "cell_type": "code",
   "execution_count": 24,
   "id": "6d99b98b",
   "metadata": {},
   "outputs": [
    {
     "data": {
      "image/png": "[encoded data removed]",
      "text/plain": [
       "<Figure size 720x720 with 2 Axes>"
      ]
     },
     "metadata": {},
     "output_type": "display_data"
    }
   ],
   "source": [
    "# To create the correlation and plot it as a heatmap\n",
    "corr = df3.corr().round(2)\n",
    "plt.figure(figsize=(10,10))\n",
    "sns.heatmap(corr, annot = True, cmap = 'vlag', vmin=-1, vmax=1);"
   ]
  },
  {
   "cell_type": "markdown",
   "id": "a7f21120",
   "metadata": {},
   "source": [
    "From this heatmap, we can observe that the \"ever_married\" and \"age\" columns have a positive correlation of 0.68, meaning that the two variables move in the same direction. And since age gives us more information than knowing if a patient is married or not, we can confidently drop the \"ever_married\" column."
   ]
  },
  {
   "cell_type": "code",
   "execution_count": 25,
   "id": "e801e172",
   "metadata": {},
   "outputs": [
    {
     "data": {
      "text/html": [
       "<div>\n",
       "<style scoped>\n",
       "    .dataframe tbody tr th:only-of-type {\n",
       "        vertical-align: middle;\n",
       "    }\n",
       "\n",
       "    .dataframe tbody tr th {\n",
       "        vertical-align: top;\n",
       "    }\n",
       "\n",
       "    .dataframe thead th {\n",
       "        text-align: right;\n",
       "    }\n",
       "</style>\n",
       "<table border=\"1\" class=\"dataframe\">\n",
       "  <thead>\n",
       "    <tr style=\"text-align: right;\">\n",
       "      <th></th>\n",
       "      <th>gender</th>\n",
       "      <th>age</th>\n",
       "      <th>hypertension</th>\n",
       "      <th>heart_disease</th>\n",
       "      <th>work_type</th>\n",
       "      <th>Residence_type</th>\n",
       "      <th>avg_glucose_level</th>\n",
       "      <th>bmi</th>\n",
       "      <th>smoking_status</th>\n",
       "      <th>stroke</th>\n",
       "    </tr>\n",
       "    <tr>\n",
       "      <th>id</th>\n",
       "      <th></th>\n",
       "      <th></th>\n",
       "      <th></th>\n",
       "      <th></th>\n",
       "      <th></th>\n",
       "      <th></th>\n",
       "      <th></th>\n",
       "      <th></th>\n",
       "      <th></th>\n",
       "      <th></th>\n",
       "    </tr>\n",
       "  </thead>\n",
       "  <tbody>\n",
       "    <tr>\n",
       "      <th>9046</th>\n",
       "      <td>1</td>\n",
       "      <td>67.0</td>\n",
       "      <td>0</td>\n",
       "      <td>1</td>\n",
       "      <td>2</td>\n",
       "      <td>1</td>\n",
       "      <td>228.69</td>\n",
       "      <td>36.600000</td>\n",
       "      <td>1</td>\n",
       "      <td>1</td>\n",
       "    </tr>\n",
       "    <tr>\n",
       "      <th>51676</th>\n",
       "      <td>0</td>\n",
       "      <td>61.0</td>\n",
       "      <td>0</td>\n",
       "      <td>0</td>\n",
       "      <td>3</td>\n",
       "      <td>0</td>\n",
       "      <td>202.21</td>\n",
       "      <td>28.893237</td>\n",
       "      <td>2</td>\n",
       "      <td>1</td>\n",
       "    </tr>\n",
       "    <tr>\n",
       "      <th>31112</th>\n",
       "      <td>1</td>\n",
       "      <td>80.0</td>\n",
       "      <td>0</td>\n",
       "      <td>1</td>\n",
       "      <td>2</td>\n",
       "      <td>0</td>\n",
       "      <td>105.92</td>\n",
       "      <td>32.500000</td>\n",
       "      <td>2</td>\n",
       "      <td>1</td>\n",
       "    </tr>\n",
       "    <tr>\n",
       "      <th>60182</th>\n",
       "      <td>0</td>\n",
       "      <td>49.0</td>\n",
       "      <td>0</td>\n",
       "      <td>0</td>\n",
       "      <td>2</td>\n",
       "      <td>1</td>\n",
       "      <td>171.23</td>\n",
       "      <td>34.400000</td>\n",
       "      <td>3</td>\n",
       "      <td>1</td>\n",
       "    </tr>\n",
       "    <tr>\n",
       "      <th>1665</th>\n",
       "      <td>0</td>\n",
       "      <td>79.0</td>\n",
       "      <td>1</td>\n",
       "      <td>0</td>\n",
       "      <td>3</td>\n",
       "      <td>0</td>\n",
       "      <td>174.12</td>\n",
       "      <td>24.000000</td>\n",
       "      <td>2</td>\n",
       "      <td>1</td>\n",
       "    </tr>\n",
       "  </tbody>\n",
       "</table>\n",
       "</div>"
      ],
      "text/plain": [
       "       gender   age  hypertension  heart_disease  work_type  Residence_type  \\\n",
       "id                                                                            \n",
       "9046        1  67.0             0              1          2               1   \n",
       "51676       0  61.0             0              0          3               0   \n",
       "31112       1  80.0             0              1          2               0   \n",
       "60182       0  49.0             0              0          2               1   \n",
       "1665        0  79.0             1              0          3               0   \n",
       "\n",
       "       avg_glucose_level        bmi  smoking_status  stroke  \n",
       "id                                                           \n",
       "9046              228.69  36.600000               1       1  \n",
       "51676             202.21  28.893237               2       1  \n",
       "31112             105.92  32.500000               2       1  \n",
       "60182             171.23  34.400000               3       1  \n",
       "1665              174.12  24.000000               2       1  "
      ]
     },
     "execution_count": 25,
     "metadata": {},
     "output_type": "execute_result"
    }
   ],
   "source": [
    "df4 = df3.drop(['ever_married'], axis = 1)\n",
    "df4.head()"
   ]
  },
  {
   "cell_type": "markdown",
   "id": "a0ad528f",
   "metadata": {},
   "source": [
    "## 5. Final preprocessing"
   ]
  },
  {
   "cell_type": "markdown",
   "id": "ebe951a0",
   "metadata": {},
   "source": [
    "For the models, we are going to use \"x\" and \"y\" as our predictor and target variables, respectively."
   ]
  },
  {
   "cell_type": "code",
   "execution_count": 26,
   "id": "0ef64203",
   "metadata": {},
   "outputs": [],
   "source": [
    "# for x, we need the values besides stroke\n",
    "X = df4.drop(['stroke'], axis = 1)\n",
    "\n",
    "# for y, we only need the column stroke\n",
    "y = df4['stroke']"
   ]
  },
  {
   "cell_type": "markdown",
   "id": "74fb22aa",
   "metadata": {},
   "source": [
    "Now, let's split our data intro train and test data. For this we will need to import train_test_split from sklearn."
   ]
  },
  {
   "cell_type": "code",
   "execution_count": 27,
   "id": "d9121945",
   "metadata": {},
   "outputs": [
    {
     "name": "stdout",
     "output_type": "stream",
     "text": [
      "(4087, 9) (1022, 9) (4087,) (1022,)\n"
     ]
    }
   ],
   "source": [
    "# importing train_test_split\n",
    "from sklearn.model_selection import train_test_split\n",
    "\n",
    "seed = 1234\n",
    "\n",
    "# spliting our dataset into train and test datasets\n",
    "X_train, X_test, y_train, y_test = train_test_split(X, y, test_size=0.2, random_state = seed)\n",
    "print(X_train.shape, X_test.shape, y_train.shape, y_test.shape)"
   ]
  },
  {
   "cell_type": "markdown",
   "id": "b35deae7",
   "metadata": {},
   "source": [
    "Before creating models to try to predict stroke occurence based on clinical features, we need to normalize our numerical features (‘avg_glucose_level’,’bmi’ and ‘age’) so they contribute equally to the model and don't create bias. This needs to be done since each one of those features is measured in a different scale, and therefore will not give equal contribution to the analysis.\n",
    "\n",
    "For this, we will use the min-max approach on the training dataset. The min-max approach will subtracts the minimum value of the feature and then divides it by the range. With this we get values between 0 and 1."
   ]
  },
  {
   "cell_type": "code",
   "execution_count": 28,
   "id": "cacd5d59",
   "metadata": {},
   "outputs": [
    {
     "data": {
      "text/html": [
       "<div>\n",
       "<style scoped>\n",
       "    .dataframe tbody tr th:only-of-type {\n",
       "        vertical-align: middle;\n",
       "    }\n",
       "\n",
       "    .dataframe tbody tr th {\n",
       "        vertical-align: top;\n",
       "    }\n",
       "\n",
       "    .dataframe thead th {\n",
       "        text-align: right;\n",
       "    }\n",
       "</style>\n",
       "<table border=\"1\" class=\"dataframe\">\n",
       "  <thead>\n",
       "    <tr style=\"text-align: right;\">\n",
       "      <th></th>\n",
       "      <th>gender</th>\n",
       "      <th>age</th>\n",
       "      <th>hypertension</th>\n",
       "      <th>heart_disease</th>\n",
       "      <th>work_type</th>\n",
       "      <th>Residence_type</th>\n",
       "      <th>avg_glucose_level</th>\n",
       "      <th>bmi</th>\n",
       "      <th>smoking_status</th>\n",
       "    </tr>\n",
       "    <tr>\n",
       "      <th>id</th>\n",
       "      <th></th>\n",
       "      <th></th>\n",
       "      <th></th>\n",
       "      <th></th>\n",
       "      <th></th>\n",
       "      <th></th>\n",
       "      <th></th>\n",
       "      <th></th>\n",
       "      <th></th>\n",
       "    </tr>\n",
       "  </thead>\n",
       "  <tbody>\n",
       "    <tr>\n",
       "      <th>61000</th>\n",
       "      <td>0</td>\n",
       "      <td>0.841309</td>\n",
       "      <td>0</td>\n",
       "      <td>1</td>\n",
       "      <td>2</td>\n",
       "      <td>1</td>\n",
       "      <td>0.661112</td>\n",
       "      <td>0.371134</td>\n",
       "      <td>3</td>\n",
       "    </tr>\n",
       "    <tr>\n",
       "      <th>31092</th>\n",
       "      <td>0</td>\n",
       "      <td>0.365234</td>\n",
       "      <td>0</td>\n",
       "      <td>0</td>\n",
       "      <td>2</td>\n",
       "      <td>1</td>\n",
       "      <td>0.154372</td>\n",
       "      <td>0.400916</td>\n",
       "      <td>2</td>\n",
       "    </tr>\n",
       "    <tr>\n",
       "      <th>17771</th>\n",
       "      <td>0</td>\n",
       "      <td>0.780273</td>\n",
       "      <td>1</td>\n",
       "      <td>0</td>\n",
       "      <td>0</td>\n",
       "      <td>1</td>\n",
       "      <td>0.720155</td>\n",
       "      <td>0.134021</td>\n",
       "      <td>2</td>\n",
       "    </tr>\n",
       "    <tr>\n",
       "      <th>3178</th>\n",
       "      <td>0</td>\n",
       "      <td>0.304199</td>\n",
       "      <td>0</td>\n",
       "      <td>0</td>\n",
       "      <td>2</td>\n",
       "      <td>0</td>\n",
       "      <td>0.063060</td>\n",
       "      <td>0.513173</td>\n",
       "      <td>1</td>\n",
       "    </tr>\n",
       "    <tr>\n",
       "      <th>12175</th>\n",
       "      <td>0</td>\n",
       "      <td>0.658203</td>\n",
       "      <td>0</td>\n",
       "      <td>0</td>\n",
       "      <td>2</td>\n",
       "      <td>1</td>\n",
       "      <td>0.228003</td>\n",
       "      <td>0.194731</td>\n",
       "      <td>3</td>\n",
       "    </tr>\n",
       "  </tbody>\n",
       "</table>\n",
       "</div>"
      ],
      "text/plain": [
       "       gender       age  hypertension  heart_disease  work_type  \\\n",
       "id                                                                \n",
       "61000       0  0.841309             0              1          2   \n",
       "31092       0  0.365234             0              0          2   \n",
       "17771       0  0.780273             1              0          0   \n",
       "3178        0  0.304199             0              0          2   \n",
       "12175       0  0.658203             0              0          2   \n",
       "\n",
       "       Residence_type  avg_glucose_level       bmi  smoking_status  \n",
       "id                                                                  \n",
       "61000               1           0.661112  0.371134               3  \n",
       "31092               1           0.154372  0.400916               2  \n",
       "17771               1           0.720155  0.134021               2  \n",
       "3178                0           0.063060  0.513173               1  \n",
       "12175               1           0.228003  0.194731               3  "
      ]
     },
     "execution_count": 28,
     "metadata": {},
     "output_type": "execute_result"
    }
   ],
   "source": [
    "# import package\n",
    "from sklearn.preprocessing import MinMaxScaler\n",
    "\n",
    "# assign MinMaxScaler() to min_max_scaler\n",
    "min_max_scaler = MinMaxScaler()\n",
    "\n",
    "\n",
    "# fit and transform the training and test datasets sepparetly\n",
    "X_train[[\"avg_glucose_level\", \"bmi\", \"age\"]] = min_max_scaler. fit_transform(X_train[[\"avg_glucose_level\", \"bmi\", \"age\"]])\n",
    "X_test[[\"avg_glucose_level\", \"bmi\", \"age\"]] = min_max_scaler. transform(X_test[[\"avg_glucose_level\", \"bmi\", \"age\"]])\n",
    "\n",
    "X_train.head()"
   ]
  },
  {
   "cell_type": "markdown",
   "id": "5a6c7410",
   "metadata": {},
   "source": [
    "## 6. Modeling"
   ]
  },
  {
   "cell_type": "markdown",
   "id": "87d717ea",
   "metadata": {},
   "source": [
    "We will now explore 3 algorithms to check which produces reliable and repeatable results. The algorithms are:\n",
    "\n",
    "* Logistic regression\n",
    "* Decision trees\n",
    "* Naive Bayes\n",
    "\n",
    "Let's start by importing the correct libraries"
   ]
  },
  {
   "cell_type": "code",
   "execution_count": 29,
   "id": "832c68b1",
   "metadata": {},
   "outputs": [],
   "source": [
    "# importing the correct libraries for the models\n",
    "from sklearn.linear_model import LogisticRegression\n",
    "from sklearn.tree import DecisionTreeClassifier\n",
    "from sklearn.naive_bayes import GaussianNB\n",
    "\n",
    "# importing the library for evaluation\n",
    "from sklearn import model_selection, metrics, linear_model, datasets, feature_selection\n",
    "from sklearn import tree"
   ]
  },
  {
   "cell_type": "markdown",
   "id": "dc79c64f",
   "metadata": {},
   "source": [
    "### Logistic regression"
   ]
  },
  {
   "cell_type": "code",
   "execution_count": 30,
   "id": "f8c1901b",
   "metadata": {},
   "outputs": [
    {
     "name": "stdout",
     "output_type": "stream",
     "text": [
      "Logistic regression:\n",
      "Training accuracy: 0.9517983851235625\n",
      "Test accuracy: 0.9500978473581213\n"
     ]
    }
   ],
   "source": [
    "# fit the train datasets in our logistic regression\n",
    "log_model = linear_model.LogisticRegression(solver='liblinear')\n",
    "log_model.fit(X_train,y_train)\n",
    "\n",
    "# print accuracy for training and test sets\n",
    "\n",
    "print(\"Logistic regression:\")\n",
    "print(f\"Training accuracy: {log_model.score(X_train,y_train)}\")\n",
    "print(f\"Test accuracy: {log_model.score(X_test, y_test)}\")"
   ]
  },
  {
   "cell_type": "markdown",
   "id": "56eaf134",
   "metadata": {},
   "source": [
    "### Naive Bayes"
   ]
  },
  {
   "cell_type": "code",
   "execution_count": 31,
   "id": "f0201453",
   "metadata": {},
   "outputs": [
    {
     "name": "stdout",
     "output_type": "stream",
     "text": [
      "Naive Bayes:\n",
      "Training accuracy: 0.8781502324443357\n",
      "Test accuracy: 0.8610567514677103\n"
     ]
    }
   ],
   "source": [
    "# fit the train datasets in our Naive Bayes analysis\n",
    "nb_model = GaussianNB()\n",
    "nb_model.fit(X_train,y_train)\n",
    "\n",
    "# print accuracy for training and test sets\n",
    "\n",
    "print(\"Naive Bayes:\")\n",
    "print(f\"Training accuracy: {nb_model.score(X_train,y_train)}\")\n",
    "print(f\"Test accuracy: {nb_model.score(X_test, y_test)}\")"
   ]
  },
  {
   "cell_type": "markdown",
   "id": "3e2e643f",
   "metadata": {},
   "source": [
    "### Decision tree"
   ]
  },
  {
   "cell_type": "code",
   "execution_count": 32,
   "id": "a03b712b",
   "metadata": {},
   "outputs": [
    {
     "name": "stdout",
     "output_type": "stream",
     "text": [
      "Decision tree:\n",
      "Training accuracy: 0.9562025935894299\n",
      "Test accuracy: 0.9452054794520548\n"
     ]
    }
   ],
   "source": [
    "# fit the train datasets in our Decision tree analysis\n",
    "tree_model = tree.DecisionTreeClassifier(max_depth=5)\n",
    "tree_model.fit(X_train,y_train)\n",
    "\n",
    "# print accuracy for training and test sets\n",
    "\n",
    "print(\"Decision tree:\")\n",
    "print(f\"Training accuracy: {tree_model.score(X_train,y_train)}\")\n",
    "print(f\"Test accuracy: {tree_model.score(X_test, y_test)}\")"
   ]
  },
  {
   "cell_type": "markdown",
   "id": "fcf1ae50",
   "metadata": {},
   "source": [
    "Looking at the training and test accuracies for the models above, we can observe that Logistic Regression and Decision Tree were the models with higher training and test accuracy scores."
   ]
  },
  {
   "cell_type": "markdown",
   "id": "968f3acc",
   "metadata": {},
   "source": [
    "## 7. Cross validation"
   ]
  },
  {
   "cell_type": "markdown",
   "id": "58e90b57",
   "metadata": {},
   "source": [
    "### Logistic regression"
   ]
  },
  {
   "cell_type": "code",
   "execution_count": 36,
   "id": "d9a60e8b",
   "metadata": {},
   "outputs": [
    {
     "name": "stdout",
     "output_type": "stream",
     "text": [
      "Cross validation score for logistic regression: 0.9517989836521406\n"
     ]
    }
   ],
   "source": [
    "# import libraries\n",
    "from sklearn.model_selection import cross_val_score\n",
    "\n",
    "# to create a variable for the logistic regression model\n",
    "log_model = linear_model.LogisticRegression(solver='liblinear')\n",
    "\n",
    "# to get the cross validation scores for the logistic regression\n",
    "scores_log = cross_val_score(log_model, X_train, y_train, cv = 10, scoring='accuracy')\n",
    "\n",
    "# to print the results\n",
    "print('Cross validation score for logistic regression: {}'.format(scores_log.mean()))"
   ]
  },
  {
   "cell_type": "markdown",
   "id": "c61ff6c6",
   "metadata": {},
   "source": [
    "### Decision tree"
   ]
  },
  {
   "cell_type": "code",
   "execution_count": 37,
   "id": "c1a9c977",
   "metadata": {},
   "outputs": [
    {
     "name": "stdout",
     "output_type": "stream",
     "text": [
      "Cross validation score for decision tree: 0.9491106956229924\n"
     ]
    }
   ],
   "source": [
    "# to create a variable for the decision tree model\n",
    "tree_model = tree.DecisionTreeClassifier(max_depth=5)\n",
    "\n",
    "# to get the cross validation scores for the logistic regression\n",
    "scores_tree = cross_val_score(tree_model, X_train, y_train, cv = 10, scoring='accuracy')\n",
    "\n",
    "# to print the results\n",
    "print('Cross validation score for decision tree: {}'.format(scores_tree.mean()))"
   ]
  },
  {
   "cell_type": "markdown",
   "id": "f0749d21",
   "metadata": {},
   "source": [
    "Using the mean cross-validation, we can conclude that we expect the Logistic Regression model to be around 95.18% accurate on average, while the Decision tree model is around 94.91% accurate."
   ]
  },
  {
   "cell_type": "markdown",
   "id": "ddaf5002",
   "metadata": {},
   "source": [
    "## 8. References"
   ]
  },
  {
   "cell_type": "markdown",
   "id": "c39d4bb0",
   "metadata": {},
   "source": [
    "BMI dependence on age and sex - https://www.cdc.gov/obesity/downloads/bmiforpactitioners.pdf"
   ]
  }
 ],
 "metadata": {
  "kernelspec": {
   "display_name": "Python 3",
   "language": "python",
   "name": "python3"
  },
  "language_info": {
   "codemirror_mode": {
    "name": "ipython",
    "version": 3
   },
   "file_extension": ".py",
   "mimetype": "text/x-python",
   "name": "python",
   "nbconvert_exporter": "python",
   "pygments_lexer": "ipython3",
   "version": "3.8.8"
  }
 },
 "nbformat": 4,
 "nbformat_minor": 5
}
